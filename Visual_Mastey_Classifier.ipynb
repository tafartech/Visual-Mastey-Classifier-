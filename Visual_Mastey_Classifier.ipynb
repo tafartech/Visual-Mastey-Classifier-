{
  "nbformat": 4,
  "nbformat_minor": 0,
  "metadata": {
    "colab": {
      "private_outputs": true,
      "provenance": [],
      "gpuType": "T4",
      "authorship_tag": "ABX9TyMwOd51OO6kzYYUgOOq42Jt",
      "include_colab_link": true
    },
    "kernelspec": {
      "name": "python3",
      "display_name": "Python 3"
    },
    "language_info": {
      "name": "python"
    },
    "accelerator": "GPU"
  },
  "cells": [
    {
      "cell_type": "markdown",
      "metadata": {
        "id": "view-in-github",
        "colab_type": "text"
      },
      "source": [
        "<a href=\"https://colab.research.google.com/github/tafartech/Visual-Mastey-Classifier-/blob/main/Visual_Mastey_Classifier.ipynb\" target=\"_parent\"><img src=\"https://colab.research.google.com/assets/colab-badge.svg\" alt=\"Open In Colab\"/></a>"
      ]
    },
    {
      "cell_type": "markdown",
      "source": [
        "Installing Tensorflow Datasets"
      ],
      "metadata": {
        "id": "vwooomBMA_ys"
      }
    },
    {
      "cell_type": "code",
      "execution_count": null,
      "metadata": {
        "id": "yz3DjBEP-hpQ"
      },
      "outputs": [],
      "source": [
        "!pip install tensorflow tensorflow-datasets"
      ]
    },
    {
      "cell_type": "markdown",
      "source": [
        "Load CIFAR-10 Dataset"
      ],
      "metadata": {
        "id": "oBNzZeBrBSSo"
      }
    },
    {
      "cell_type": "code",
      "source": [
        "import tensorflow as tf\n",
        "import tensorflow_datasets as tfds\n",
        "\n",
        "# Load CIFAR-10 dataset\n",
        "(train_data, test_data), info = tfds.load('cifar10', split=['train', 'test'], with_info=True, as_supervised=True)\n",
        "\n",
        "# Display dataset information\n",
        "info"
      ],
      "metadata": {
        "id": "E6rE35tHBWyb"
      },
      "execution_count": null,
      "outputs": []
    },
    {
      "cell_type": "markdown",
      "source": [
        "*The dataset has been successfully loaded, and the information is as expected. Now, let's proceed with*"
      ],
      "metadata": {
        "id": "bzO79R66CIBc"
      }
    },
    {
      "cell_type": "markdown",
      "source": [
        "# The Exploratory Data Analysis (EDA)"
      ],
      "metadata": {
        "id": "kru4r8FDCOWl"
      }
    },
    {
      "cell_type": "code",
      "source": [
        "import matplotlib.pyplot as plt\n",
        "\n",
        "# Function to display sample images\n",
        "def show_samples(dataset, num_samples=5):\n",
        "    plt.figure(figsize=(10, 2))\n",
        "    for i, (image, label) in enumerate(dataset.take(num_samples)):\n",
        "        plt.subplot(1, num_samples, i + 1)\n",
        "        plt.imshow(image)\n",
        "        plt.title(f'Class: {label.numpy()}')\n",
        "        plt.axis('off')\n",
        "    plt.show()\n",
        "\n",
        "# Display sample images from the training set\n",
        "show_samples(train_data)"
      ],
      "metadata": {
        "id": "ZOUHdx43CYLy"
      },
      "execution_count": null,
      "outputs": []
    },
    {
      "cell_type": "markdown",
      "source": [
        "*I visualize some sample images from the CIFAR-10 dataset. This will give us a glimpse of the data*"
      ],
      "metadata": {
        "id": "wSLri85oCrnQ"
      }
    },
    {
      "cell_type": "markdown",
      "source": [
        "# Data Preprocessing.\n",
        "In the following code cell, we'll perform data preprocessing, including normalizing pixel values and exploring potential data augmentation:"
      ],
      "metadata": {
        "id": "lHrmoXu6C75m"
      }
    },
    {
      "cell_type": "code",
      "source": [
        "# Function to preprocess images\n",
        "def preprocess_image(image, label):\n",
        "    # Normalize pixel values to the range [0, 1]\n",
        "    image = tf.cast(image, tf.float32) / 255.0\n",
        "    return image, label\n",
        "\n",
        "# Apply preprocessing to the datasets\n",
        "train_data = train_data.map(preprocess_image)\n",
        "test_data = test_data.map(preprocess_image)\n",
        "\n",
        "# Display sample preprocessed images\n",
        "show_samples(train_data)"
      ],
      "metadata": {
        "id": "CYa70rQdCyak"
      },
      "execution_count": null,
      "outputs": []
    },
    {
      "cell_type": "markdown",
      "source": [
        "# Model Building and Training.\n",
        "we'll construct a deep learning model using TensorFlow for classifying images in the CIFAR-10 dataset."
      ],
      "metadata": {
        "id": "mce29PBhDitM"
      }
    },
    {
      "cell_type": "code",
      "source": [
        "from tensorflow.keras import layers, models\n",
        "\n",
        "# Define the model\n",
        "model = models.Sequential([\n",
        "    layers.Conv2D(32, (3, 3), activation='relu', input_shape=(32, 32, 3)),\n",
        "    layers.MaxPooling2D((2, 2)),\n",
        "    layers.Conv2D(64, (3, 3), activation='relu'),\n",
        "    layers.MaxPooling2D((2, 2)),\n",
        "    layers.Conv2D(64, (3, 3), activation='relu'),\n",
        "    layers.Flatten(),\n",
        "    layers.Dense(64, activation='relu'),\n",
        "    layers.Dense(10, activation='softmax')  # 10 classes in CIFAR-10\n",
        "])\n",
        "\n",
        "# Compile the model\n",
        "model.compile(optimizer='adam',\n",
        "              loss='sparse_categorical_crossentropy',\n",
        "              metrics=['accuracy'])\n",
        "\n",
        "# Display model summary\n",
        "model.summary()"
      ],
      "metadata": {
        "id": "WykzfU3xDrq8"
      },
      "execution_count": null,
      "outputs": []
    },
    {
      "cell_type": "markdown",
      "source": [
        "# Training the Model.\n",
        "we'll train the model using the preprocessed training data and evaluate its performance on the test set"
      ],
      "metadata": {
        "id": "w6hPQeE7EPpp"
      }
    },
    {
      "cell_type": "code",
      "source": [
        "# Train the model\n",
        "history = model.fit(train_data.shuffle(10000).batch(64),\n",
        "                    epochs=10,\n",
        "                    validation_data=test_data.batch(64))\n",
        "\n",
        "# Evaluate the model on the test set\n",
        "test_loss, test_acc = model.evaluate(test_data.batch(64))\n",
        "print(f'Test accuracy: {test_acc}')"
      ],
      "metadata": {
        "id": "Rg1hceazEYHw"
      },
      "execution_count": null,
      "outputs": []
    },
    {
      "cell_type": "markdown",
      "source": [
        "# Software Development phase.\n",
        "we'll create a Python application that allows users to upload images for classification using the trained model."
      ],
      "metadata": {
        "id": "ZObdqhuwFHR-"
      }
    },
    {
      "cell_type": "code",
      "source": [
        "from PIL import Image\n",
        "import numpy as np\n",
        "\n",
        "# Function to preprocess and classify user-uploaded image\n",
        "def classify_uploaded_image(file_path):\n",
        "    # Load and preprocess the image\n",
        "    img = Image.open(file_path).resize((32, 32))\n",
        "    img_array = np.expand_dims(np.array(img) / 255.0, axis=0)\n",
        "\n",
        "    # Make a prediction\n",
        "    prediction = model.predict(img_array)\n",
        "\n",
        "    # Display the predicted class\n",
        "    predicted_class = np.argmax(prediction)\n",
        "    print(f'Predicted Class: {predicted_class}')\n",
        "\n",
        "# Example usage (replace 'your_image.jpg' with the actual file path)\n",
        "classify_uploaded_image('/content/images (1).jpg')"
      ],
      "metadata": {
        "id": "9l0wVQlKFP9O"
      },
      "execution_count": null,
      "outputs": []
    },
    {
      "cell_type": "markdown",
      "source": [
        "*This code uses the Pillow library to handle image processing. Replace 'your_image.jpg' with the actual file path of the image you want to classify.*"
      ],
      "metadata": {
        "id": "d5A5G60NHQyr"
      }
    },
    {
      "cell_type": "markdown",
      "source": [
        "Let's start by fine-tuning the model. We can experiment with different hyperparameters or architectures to see if we can improve performance."
      ],
      "metadata": {
        "id": "VYo-HrsEIeSb"
      }
    },
    {
      "cell_type": "markdown",
      "source": [
        "# Model Fine-Tuning\n",
        "I'll make a small modification to the model architecture, adding more convolutional layers and neurons in the dense layers. Feel free to adjust it further based on your preferences"
      ],
      "metadata": {
        "id": "brEKslY8Iy27"
      }
    },
    {
      "cell_type": "code",
      "source": [
        "# Define a modified model for fine-tuning\n",
        "fine_tuned_model = models.Sequential([\n",
        "    layers.Conv2D(32, (3, 3), activation='relu', input_shape=(32, 32, 3)),\n",
        "    layers.MaxPooling2D((2, 2)),\n",
        "    layers.Conv2D(64, (3, 3), activation='relu'),\n",
        "    layers.MaxPooling2D((2, 2)),\n",
        "    layers.Conv2D(128, (3, 3), activation='relu'),  # Additional convolutional layer\n",
        "    layers.MaxPooling2D((2, 2)),\n",
        "    layers.Flatten(),\n",
        "    layers.Dense(256, activation='relu'),  # Increased neurons in the dense layer\n",
        "    layers.Dense(128, activation='relu'),  # Additional dense layer\n",
        "    layers.Dense(10, activation='softmax')\n",
        "])\n",
        "\n",
        "# Compile the modified model\n",
        "fine_tuned_model.compile(optimizer='adam',\n",
        "                         loss='sparse_categorical_crossentropy',\n",
        "                         metrics=['accuracy'])\n",
        "\n",
        "# Display modified model summary\n",
        "fine_tuned_model.summary()"
      ],
      "metadata": {
        "id": "TFtL5MjPHXNn"
      },
      "execution_count": null,
      "outputs": []
    },
    {
      "cell_type": "markdown",
      "source": [
        "let's proceed with training the fine-tuned model. I'll use the same training process as before"
      ],
      "metadata": {
        "id": "ie9Hjf9VJjrj"
      }
    },
    {
      "cell_type": "code",
      "source": [
        "# Train the fine-tuned model\n",
        "fine_tuned_history = fine_tuned_model.fit(train_data.shuffle(10000).batch(64),\n",
        "                                          epochs=10,\n",
        "                                          validation_data=test_data.batch(64))\n",
        "\n",
        "# Evaluate the fine-tuned model on the test set\n",
        "test_loss, test_acc = fine_tuned_model.evaluate(test_data.batch(64))\n",
        "print(f'Test accuracy after fine-tuning: {test_acc}')"
      ],
      "metadata": {
        "id": "ZyemjI9xJpoM"
      },
      "execution_count": null,
      "outputs": []
    },
    {
      "cell_type": "markdown",
      "source": [
        "# Data Augmentation"
      ],
      "metadata": {
        "id": "6gIXvX1lKtM1"
      }
    },
    {
      "cell_type": "code",
      "source": [
        "# Introduce data augmentation during training\n",
        "augmented_model = models.Sequential([\n",
        "    layers.Conv2D(32, (3, 3), activation='relu', input_shape=(32, 32, 3)),\n",
        "    layers.MaxPooling2D((2, 2)),\n",
        "    layers.Conv2D(64, (3, 3), activation='relu'),\n",
        "    layers.MaxPooling2D((2, 2)),\n",
        "    layers.Conv2D(128, (3, 3), activation='relu'),\n",
        "    layers.MaxPooling2D((2, 2)),\n",
        "    layers.Flatten(),\n",
        "    layers.Dense(256, activation='relu'),\n",
        "    layers.Dense(128, activation='relu'),\n",
        "    layers.Dense(10, activation='softmax')\n",
        "])\n",
        "\n",
        "# Compile the model\n",
        "augmented_model.compile(optimizer='adam',\n",
        "                        loss='sparse_categorical_crossentropy',\n",
        "                        metrics=['accuracy'])\n",
        "\n",
        "# Introduce data augmentation\n",
        "data_augmentation = tf.keras.Sequential([\n",
        "    layers.experimental.preprocessing.RandomFlip(\"horizontal\"),\n",
        "    layers.experimental.preprocessing.RandomRotation(0.1),\n",
        "    layers.experimental.preprocessing.RandomZoom(0.1),\n",
        "])\n",
        "\n",
        "# Train the model with data augmentation\n",
        "augmented_history = augmented_model.fit(\n",
        "    train_data.shuffle(10000).batch(64).map(lambda x, y: (data_augmentation(x, training=True), y)),\n",
        "    epochs=10,\n",
        "    validation_data=test_data.batch(64)\n",
        ")\n",
        "\n",
        "# Evaluate the augmented model on the test set\n",
        "test_loss, test_acc = augmented_model.evaluate(test_data.batch(64))\n",
        "print(f'Test accuracy with data augmentation: {test_acc}')"
      ],
      "metadata": {
        "id": "WHQ8J6TfKhFC"
      },
      "execution_count": null,
      "outputs": []
    },
    {
      "cell_type": "markdown",
      "source": [
        "# Visualization.\n",
        "Visualization is crucial for understanding how your model performs during training. Below is an example of how you can visualize the training history and some augmented images"
      ],
      "metadata": {
        "id": "hsSwli0qVnrr"
      }
    },
    {
      "cell_type": "code",
      "source": [
        "import matplotlib.pyplot as plt\n",
        "from tensorflow.keras.preprocessing.image import ImageDataGenerator\n",
        "\n",
        "# Function to plot training history\n",
        "def plot_training_history(history):\n",
        "    # Plot training & validation accuracy values\n",
        "    plt.plot(history.history['accuracy'])\n",
        "    plt.plot(history.history['val_accuracy'])\n",
        "    plt.title('Model accuracy')\n",
        "    plt.ylabel('Accuracy')\n",
        "    plt.xlabel('Epoch')\n",
        "    plt.legend(['Train', 'Validation'], loc='upper left')\n",
        "    plt.show()\n",
        "\n",
        "    # Plot training & validation loss values\n",
        "    plt.plot(history.history['loss'])\n",
        "    plt.plot(history.history['val_loss'])\n",
        "    plt.title('Model loss')\n",
        "    plt.ylabel('Loss')\n",
        "    plt.xlabel('Epoch')\n",
        "    plt.legend(['Train', 'Validation'], loc='upper left')\n",
        "    plt.show()\n",
        "\n",
        "# Plot training history\n",
        "plot_training_history(history)\n",
        "\n",
        "# Function to visualize augmented images\n",
        "def visualize_augmented_images(datagen, image_path):\n",
        "    # Load and preprocess a sample image\n",
        "    img = Image.open(image_path).resize((32, 32))\n",
        "    img_array = np.expand_dims(np.array(img) / 255.0, axis=0)\n",
        "\n",
        "    # Create a generator with a single sample\n",
        "    img_generator = datagen.flow(img_array, batch_size=1)\n",
        "\n",
        "    # Generate augmented images\n",
        "    plt.figure(figsize=(10, 10))\n",
        "    for i in range(9):\n",
        "        augmented_image = img_generator.next()[0]\n",
        "        plt.subplot(3, 3, i + 1)\n",
        "        plt.imshow(augmented_image)\n",
        "        plt.axis('off')\n",
        "    plt.show()\n",
        "\n",
        "# Use data generator for visualization\n",
        "data_generator = ImageDataGenerator(\n",
        "    rotation_range=40,\n",
        "    width_shift_range=0.2,\n",
        "    height_shift_range=0.2,\n",
        "    shear_range=0.2,\n",
        "    zoom_range=0.2,\n",
        "    horizontal_flip=True,\n",
        "    fill_mode='nearest'\n",
        ")\n",
        "\n",
        "# Visualize augmented images\n",
        "visualize_augmented_images(data_generator, '/content/images (1).jpg')"
      ],
      "metadata": {
        "id": "OGEfHEliUWmt"
      },
      "execution_count": null,
      "outputs": []
    }
  ]
}